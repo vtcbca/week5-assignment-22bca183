{
 "cells": [
  {
   "cell_type": "code",
   "execution_count": 1,
   "id": "da11eec1",
   "metadata": {},
   "outputs": [],
   "source": [
    "import csv"
   ]
  },
  {
   "cell_type": "code",
   "execution_count": 2,
   "id": "b0ac0ac0",
   "metadata": {},
   "outputs": [],
   "source": [
    "with open('student.csv','w',newline=\"\")as file:\n",
    "    writer=csv.writer(file)\n",
    "    header=['sid','sname','city','contect']\n",
    "    writer.writerow(header)"
   ]
  },
  {
   "cell_type": "code",
   "execution_count": 3,
   "id": "8c71e215",
   "metadata": {},
   "outputs": [],
   "source": [
    "rows=[[1,'jatin','surat',7890654321],\n",
    "      [2,'bhavin','bardoli',7899654321],\n",
    "      [3,'kashyap','vyara',6665553248],\n",
    "      [4,'raj','songadh',9987665432],\n",
    "      [5,'sharad','surat',7265070707]]"
   ]
  },
  {
   "cell_type": "code",
   "execution_count": 4,
   "id": "436fd5bf",
   "metadata": {},
   "outputs": [
    {
     "name": "stdout",
     "output_type": "stream",
     "text": [
      "enter student id:6\n",
      "enter student name:zee\n",
      "enter student city:vakaner\n",
      "enter student contect:7272645593\n",
      "enter student id:7\n",
      "enter student name:henil\n",
      "enter student city:bardoli\n",
      "enter student contect:8976543219\n",
      "enter student id:8\n",
      "enter student name:ayaz\n",
      "enter student city:bardoli\n",
      "enter student contect:7896453217\n",
      "enter student id:9\n",
      "enter student name:darshan\n",
      "enter student city:songadh\n",
      "enter student contect:5464327891\n",
      "enter student id:10\n",
      "enter student name:bhavesh\n",
      "enter student city:surat\n",
      "enter student contect:4352678928\n"
     ]
    }
   ],
   "source": [
    "for i in range(5):\n",
    "    sid=int(input(\"enter student id:\"))\n",
    "    sname=input(\"enter student name:\")\n",
    "    city=input(\"enter student city:\")\n",
    "    contect=input(\"enter student contect:\")\n",
    "    row=[sid,sname,city,contect]"
   ]
  },
  {
   "cell_type": "code",
   "execution_count": 5,
   "id": "b9eff6b1",
   "metadata": {},
   "outputs": [],
   "source": [
    "from csv import reader"
   ]
  },
  {
   "cell_type": "code",
   "execution_count": 6,
   "id": "116031b5",
   "metadata": {},
   "outputs": [
    {
     "name": "stdout",
     "output_type": "stream",
     "text": [
      "['sid', 'sname', 'city', 'contect']\n"
     ]
    }
   ],
   "source": [
    "with open(\"student.csv\",\"r\",newline=\"\")as file:\n",
    "    read=reader(file)\n",
    "    for rows in read:\n",
    "        print(rows)"
   ]
  },
  {
   "cell_type": "code",
   "execution_count": null,
   "id": "3777a8cd",
   "metadata": {},
   "outputs": [],
   "source": []
  }
 ],
 "metadata": {
  "kernelspec": {
   "display_name": "Python 3 (ipykernel)",
   "language": "python",
   "name": "python3"
  },
  "language_info": {
   "codemirror_mode": {
    "name": "ipython",
    "version": 3
   },
   "file_extension": ".py",
   "mimetype": "text/x-python",
   "name": "python",
   "nbconvert_exporter": "python",
   "pygments_lexer": "ipython3",
   "version": "3.11.4"
  }
 },
 "nbformat": 4,
 "nbformat_minor": 5
}
